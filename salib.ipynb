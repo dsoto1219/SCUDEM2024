{
 "cells": [
  {
   "cell_type": "code",
   "execution_count": null,
   "metadata": {},
   "outputs": [],
   "source": [
    "# Get reasonable initial velocities\n",
    "\n",
    "F = [300, 700]\n",
    "d = [0.5, 1]\n",
    "m = "
   ]
  },
  {
   "cell_type": "code",
   "execution_count": 8,
   "metadata": {},
   "outputs": [
    {
     "name": "stderr",
     "output_type": "stream",
     "text": [
      "C:\\Users\\danim\\AppData\\Local\\Temp\\ipykernel_1188\\2662966851.py:19: DeprecationWarning: `salib.sample.saltelli` will be removed in SALib 1.5.1 Please use `salib.sample.sobol`\n",
      "  saltelli.sample(throw_problem, 1024)\n"
     ]
    },
    {
     "data": {
      "text/plain": [
       "array([[ 1.07177734, 19.44677734, 22.93994141,  0.76468942, 23.35693359],\n",
       "       [42.36767578, 19.44677734, 22.93994141,  0.76468942, 23.35693359],\n",
       "       [ 1.07177734, 12.84326172, 22.93994141,  0.76468942, 23.35693359],\n",
       "       ...,\n",
       "       [33.22802734,  6.76611328,  2.55517578,  0.55146609, 21.68701172],\n",
       "       [33.22802734,  6.76611328,  2.55517578,  1.43657301, 24.45556641],\n",
       "       [33.22802734,  6.76611328,  2.55517578,  1.43657301, 21.68701172]])"
      ]
     },
     "execution_count": 8,
     "metadata": {},
     "output_type": "execute_result"
    }
   ],
   "source": [
    "import numpy as np\n",
    "from scipy.constants import pi\n",
    "from SALib.sample import saltelli\n",
    "from constants import rock_density\n",
    "\n",
    "# bounds are from 1 to 50 cm, adjusted to be in m\n",
    "throw_problem = {\n",
    "    'num_vars' : 5,\n",
    "    'names' : ['a', 'b', 'c',\n",
    "               'theta',\n",
    "               'vi'],\n",
    "    'bounds' : [[1, 50],\n",
    "                [1, 50],\n",
    "                [1, 50],\n",
    "                [0, 0.5 * pi],\n",
    "                [15, 30]]\n",
    "}\n",
    "\n",
    "saltelli.sample(throw_problem, 1024)"
   ]
  }
 ],
 "metadata": {
  "kernelspec": {
   "display_name": "manim-simiode",
   "language": "python",
   "name": "python3"
  },
  "language_info": {
   "codemirror_mode": {
    "name": "ipython",
    "version": 3
   },
   "file_extension": ".py",
   "mimetype": "text/x-python",
   "name": "python",
   "nbconvert_exporter": "python",
   "pygments_lexer": "ipython3",
   "version": "3.10.15"
  }
 },
 "nbformat": 4,
 "nbformat_minor": 2
}
